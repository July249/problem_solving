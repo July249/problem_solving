{
 "cells": [
  {
   "cell_type": "code",
   "execution_count": 4,
   "metadata": {},
   "outputs": [
    {
     "name": "stdout",
     "output_type": "stream",
     "text": [
      "['000907', '1121112']\n",
      "0009071121112\n"
     ]
    }
   ],
   "source": [
    "# 주민번호 입력받아 형태 바꿔 출력하기\n",
    "# 주민번호는 다음과 같이 구성된다.\n",
    "# XXXXXX-XXXXXXX\n",
    "\n",
    "# 왼쪽 6자리는 생년월일(YYMMDD)이고, 오른쪽 7자리는 성별,출생지역,확인코드로 구성되어있다.\n",
    "# 주민번호를 입력받아 형태를 바꿔 출력해보자.\n",
    "주민번호 = input().split('-')\n",
    "print(주민번호) # ['000907', '1121112']\n",
    "print(주민번호[0] + 주민번호[1]) # 0009071121112"
   ]
  },
  {
   "cell_type": "code",
   "execution_count": null,
   "metadata": {},
   "outputs": [],
   "source": [
    "birth_date, personal_code = input().split('-')\n",
    "\n",
    "print(birth_date + personal_code)"
   ]
  }
 ],
 "metadata": {
  "kernelspec": {
   "display_name": "Python 3.10.1 64-bit",
   "language": "python",
   "name": "python3"
  },
  "language_info": {
   "codemirror_mode": {
    "name": "ipython",
    "version": 3
   },
   "file_extension": ".py",
   "mimetype": "text/x-python",
   "name": "python",
   "nbconvert_exporter": "python",
   "pygments_lexer": "ipython3",
   "version": "3.10.1"
  },
  "orig_nbformat": 4,
  "vscode": {
   "interpreter": {
    "hash": "369f2c481f4da34e4445cda3fffd2e751bd1c4d706f27375911949ba6bb62e1c"
   }
  }
 },
 "nbformat": 4,
 "nbformat_minor": 2
}
