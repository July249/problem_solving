{
 "cells": [
  {
   "cell_type": "code",
   "execution_count": 2,
   "metadata": {},
   "outputs": [
    {
     "name": "stdout",
     "output_type": "stream",
     "text": [
      "3:16\n"
     ]
    }
   ],
   "source": [
    "# 시간 입력받아 그대로 출력하기\n",
    "# 24시간 시:분 형식으로 시간이 입력될 때, 그대로 출력하는 연습을 해보자.\n",
    "a, b = input().split(':')\n",
    "print(a, b, sep=\":\")\n",
    "\n",
    "# input().split(':') 를 사용하면 콜론 ':' 기호를 기준으로 자른다.\n",
    "# print(?, ?, sep=':') 를 사용하면 콜론 ':' 기호를 사이에 두고 값을 출력한다.\n",
    "# sep 는 분류기호(seperator)를 의미한다."
   ]
  },
  {
   "cell_type": "code",
   "execution_count": null,
   "metadata": {},
   "outputs": [],
   "source": [
    "hour, minuate = input().split(':')\n",
    "print(hour, minuate, sep=':')"
   ]
  },
  {
   "cell_type": "code",
   "execution_count": null,
   "metadata": {},
   "outputs": [],
   "source": [
    "hour, minuate = input().split(':')\n",
    "print(hour, minuate, sep=':') # sep(\":\")을 사용하면 콜론 ':' 기호를 사이에 두고 값을 출력한다."
   ]
  }
 ],
 "metadata": {
  "kernelspec": {
   "display_name": "Python 3.10.1 64-bit",
   "language": "python",
   "name": "python3"
  },
  "language_info": {
   "codemirror_mode": {
    "name": "ipython",
    "version": 3
   },
   "file_extension": ".py",
   "mimetype": "text/x-python",
   "name": "python",
   "nbconvert_exporter": "python",
   "pygments_lexer": "ipython3",
   "version": "3.10.1"
  },
  "orig_nbformat": 4,
  "vscode": {
   "interpreter": {
    "hash": "369f2c481f4da34e4445cda3fffd2e751bd1c4d706f27375911949ba6bb62e1c"
   }
  }
 },
 "nbformat": 4,
 "nbformat_minor": 2
}
