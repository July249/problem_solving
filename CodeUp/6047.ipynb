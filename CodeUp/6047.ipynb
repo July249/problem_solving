{
 "cells": [
  {
   "cell_type": "code",
   "execution_count": 1,
   "metadata": {},
   "outputs": [
    {
     "name": "stdout",
     "output_type": "stream",
     "text": [
      "8\n"
     ]
    }
   ],
   "source": [
    "# 2의 거듭제곱 배로 곱해 출력하기\n",
    "\n",
    "# 정수 2개(a, b)를 입력받아 a를 2 ** b배 곱한 값으로 출력해보자.\n",
    "# 0 <= a <= 10, 0 <= b <= 10\n",
    "# \n",
    "# 예시\n",
    "# a = 2\n",
    "# b = 10\n",
    "# print(a << b)  #2 ** 10 = 1024 가 출력된다.\n",
    "# \n",
    "# 참고\n",
    "# 예를 들어 1 3 이 입력되면 1을 2 ** 3 (= 8)배 하여 출력한다.\n",
    "\n",
    "a, b = input().split()\n",
    "print(int(a) << int(b))\n"
   ]
  }
 ],
 "metadata": {
  "kernelspec": {
   "display_name": "Python 3.10.1 64-bit",
   "language": "python",
   "name": "python3"
  },
  "language_info": {
   "codemirror_mode": {
    "name": "ipython",
    "version": 3
   },
   "file_extension": ".py",
   "mimetype": "text/x-python",
   "name": "python",
   "nbconvert_exporter": "python",
   "pygments_lexer": "ipython3",
   "version": "3.10.1"
  },
  "orig_nbformat": 4,
  "vscode": {
   "interpreter": {
    "hash": "369f2c481f4da34e4445cda3fffd2e751bd1c4d706f27375911949ba6bb62e1c"
   }
  }
 },
 "nbformat": 4,
 "nbformat_minor": 2
}
