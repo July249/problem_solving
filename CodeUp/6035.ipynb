{
 "cells": [
  {
   "cell_type": "code",
   "execution_count": 1,
   "metadata": {},
   "outputs": [
    {
     "name": "stdout",
     "output_type": "stream",
     "text": [
      "1.0\n"
     ]
    }
   ],
   "source": [
    "# 실수 2개 입력받아 곱 계산하기\n",
    "\n",
    "# 실수 2개(f1, f2)를 입력받아 곱을 출력하는 프로그램을 작성해보자.\n",
    "# \n",
    "# 예시\n",
    "# ...\n",
    "# m = f1 * f2\n",
    "# print(m)\n",
    "# \n",
    "# 참고\n",
    "# 수 * 수는 곱(multiplication)이 계산된다.\n",
    "\n",
    "f1, f2 = input().split()\n",
    "print(float(f1) * float(f2))"
   ]
  }
 ],
 "metadata": {
  "kernelspec": {
   "display_name": "Python 3.10.1 64-bit",
   "language": "python",
   "name": "python3"
  },
  "language_info": {
   "codemirror_mode": {
    "name": "ipython",
    "version": 3
   },
   "file_extension": ".py",
   "mimetype": "text/x-python",
   "name": "python",
   "nbconvert_exporter": "python",
   "pygments_lexer": "ipython3",
   "version": "3.10.1"
  },
  "orig_nbformat": 4,
  "vscode": {
   "interpreter": {
    "hash": "369f2c481f4da34e4445cda3fffd2e751bd1c4d706f27375911949ba6bb62e1c"
   }
  }
 },
 "nbformat": 4,
 "nbformat_minor": 2
}
