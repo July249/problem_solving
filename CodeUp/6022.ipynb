{
 "cells": [
  {
   "cell_type": "code",
   "execution_count": 1,
   "metadata": {},
   "outputs": [
    {
     "name": "stdout",
     "output_type": "stream",
     "text": [
      "20\n",
      "03\n",
      "04\n",
      "20 03 04\n"
     ]
    }
   ],
   "source": [
    "# 연월일 입력받아 나누어 출력하기\n",
    "# \n",
    "# 6자리의 연월일(YYMMDD)을 입력받아 나누어 출력해보자.\n",
    "# \n",
    "# 참고\n",
    "# s = input()\n",
    "# print(s[0:2])\n",
    "# \n",
    "# 를 실행하면 0번째 문자부터 1번째 문자까지 잘라 출력한다.\n",
    "# s[a:b] 라고 하면, s라는 단어에서 a번째 문자부터 b-1번째 문자까지 잘라낸 부분을 의미한다.\n",
    "# 다른 자르기 방법도 있다.\n",
    "\n",
    "yymmdd = input()\n",
    "year = yymmdd[0:2]\n",
    "month = yymmdd[2:4]\n",
    "day = yymmdd[4:6]\n",
    "print(year)\n",
    "print(month)\n",
    "print(day)\n",
    "print(year, month, day)"
   ]
  },
  {
   "cell_type": "code",
   "execution_count": null,
   "metadata": {},
   "outputs": [],
   "source": [
    "s = input()\n",
    "for i in range(0,len(s),2):\n",
    "    print(s[i:i+2])"
   ]
  }
 ],
 "metadata": {
  "kernelspec": {
   "display_name": "Python 3.10.1 64-bit",
   "language": "python",
   "name": "python3"
  },
  "language_info": {
   "codemirror_mode": {
    "name": "ipython",
    "version": 3
   },
   "file_extension": ".py",
   "mimetype": "text/x-python",
   "name": "python",
   "nbconvert_exporter": "python",
   "pygments_lexer": "ipython3",
   "version": "3.10.1"
  },
  "orig_nbformat": 4,
  "vscode": {
   "interpreter": {
    "hash": "369f2c481f4da34e4445cda3fffd2e751bd1c4d706f27375911949ba6bb62e1c"
   }
  }
 },
 "nbformat": 4,
 "nbformat_minor": 2
}
