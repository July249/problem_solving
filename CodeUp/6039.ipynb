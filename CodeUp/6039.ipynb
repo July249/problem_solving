{
 "cells": [
  {
   "cell_type": "code",
   "execution_count": 1,
   "metadata": {},
   "outputs": [
    {
     "name": "stdout",
     "output_type": "stream",
     "text": [
      "16.0\n"
     ]
    }
   ],
   "source": [
    "# 실수 2개 입력받아 거듭제곱 계산하기\n",
    "\n",
    "# 실수 2개(f1, f2)를 입력받아\n",
    "# f1을 f2번 거듭제곱한 값을 출력하는 프로그램을 작성해보자.\n",
    "# \n",
    "# 참고\n",
    "# python 언어에서는 거듭제곱(exponentiation)을 계산하는 연산자(**)를 제공한다.\n",
    "# 일반적으로 수학 식에서 거듭제곱을 표현하는 사용하는 서컴플렉스/케릿 기호(^)는 프로그래밍언어에서 다른 의미로 쓰인다.\n",
    "\n",
    "f1, f2 = input().split()\n",
    "print(float(f1) ** float(f2))\n"
   ]
  }
 ],
 "metadata": {
  "kernelspec": {
   "display_name": "Python 3.10.1 64-bit",
   "language": "python",
   "name": "python3"
  },
  "language_info": {
   "codemirror_mode": {
    "name": "ipython",
    "version": 3
   },
   "file_extension": ".py",
   "mimetype": "text/x-python",
   "name": "python",
   "nbconvert_exporter": "python",
   "pygments_lexer": "ipython3",
   "version": "3.10.1"
  },
  "orig_nbformat": 4,
  "vscode": {
   "interpreter": {
    "hash": "369f2c481f4da34e4445cda3fffd2e751bd1c4d706f27375911949ba6bb62e1c"
   }
  }
 },
 "nbformat": 4,
 "nbformat_minor": 2
}
