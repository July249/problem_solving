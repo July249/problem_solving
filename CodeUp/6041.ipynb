{
 "cells": [
  {
   "cell_type": "code",
   "execution_count": 2,
   "metadata": {},
   "outputs": [
    {
     "name": "stdout",
     "output_type": "stream",
     "text": [
      "1\n"
     ]
    }
   ],
   "source": [
    "# 정수 2개 입력받아 나눈 나머지 계산하기\n",
    "# \n",
    "# 정수 2개(a, b) 를 입력받아 a를 b로 나눈 나머지를 출력해보자.\n",
    "# \n",
    "# 예시\n",
    "# ...\n",
    "# print(a%b)\n",
    "# \n",
    "# 참고\n",
    "# python 언어에서는 나눈 나머지를 계산하는 연산자(%, remainder)를 제공한다.\n",
    "# a%b 와 같이 작성하면, a를 b로 나눈 나머지(remainder)를 계산해준다.\n",
    "# 나머지 연산(modulus, mod 연산)은 수학자 가우스가 생각해 낸 연산으로,\n",
    "# 어떤 수를 다른 수로 나누고 난 후 남는 나머지를 계산하는 연산이다.\n",
    "# \n",
    "# 실수로 나눈 나머지가 어떻게 계산될지도 생각해보자.\n",
    "\n",
    "a, b = input().split()\n",
    "print(int(a) % int(b))"
   ]
  }
 ],
 "metadata": {
  "kernelspec": {
   "display_name": "Python 3.10.1 64-bit",
   "language": "python",
   "name": "python3"
  },
  "language_info": {
   "codemirror_mode": {
    "name": "ipython",
    "version": 3
   },
   "file_extension": ".py",
   "mimetype": "text/x-python",
   "name": "python",
   "nbconvert_exporter": "python",
   "pygments_lexer": "ipython3",
   "version": "3.10.1"
  },
  "orig_nbformat": 4,
  "vscode": {
   "interpreter": {
    "hash": "369f2c481f4da34e4445cda3fffd2e751bd1c4d706f27375911949ba6bb62e1c"
   }
  }
 },
 "nbformat": 4,
 "nbformat_minor": 2
}
