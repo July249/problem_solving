{
 "cells": [
  {
   "cell_type": "code",
   "execution_count": 1,
   "metadata": {},
   "outputs": [
    {
     "name": "stdout",
     "output_type": "stream",
     "text": [
      "helloworld\n"
     ]
    }
   ],
   "source": [
    "# 단어 2개 입력받아 이어 붙이기\n",
    "# 알파벳 문자와 숫자로 이루어진 단어 2개를 입력받아\n",
    "# 순서대로 붙여 출력하는 프로그램을 작성해보자.\n",
    "# \n",
    "# 예시\n",
    "# w1, w2 = input().split()\n",
    "# s = w1 + w2\n",
    "# print(s)\n",
    "# \n",
    "# 참고\n",
    "# 단어는 문자(character)들로 만든다.\n",
    "# 문자들로 구성된 문장을 문자열(string)이라고 부른다.\n",
    "# 문자열에는 공백문자(' ')가 포함될 수 있는데, \n",
    "# 문자 1개는 길이가 1인 문자열이라고 할 수 있고, 공백문자(' ')가 없는 문자열은 단어(word)라고 할 수 있다.\n",
    "# \n",
    "# 일반적인 문장들은 공백으로 구분된 단어들로 만들어지기 때문에,\n",
    "# 공백문자로 구분된 문장에서 단어를 잘라내기 위해서는 공백문자(' ')를 기준으로 자르면 된다.\n",
    "# 키보드로 입력되는 것들은 기본적으로 문자열로 인식되고, 문자열끼리 더하기(+)를 실행하면,\n",
    "# 두 문자열을 합쳐 연결한(concatenate) 결과를 만들어 낸다.\n",
    "\n",
    "w1, w2 = input().split(' ')\n",
    "print(w1 + w2)\n"
   ]
  },
  {
   "cell_type": "code",
   "execution_count": null,
   "metadata": {},
   "outputs": [],
   "source": [
    "w1, w2 = input().split()\n",
    "s = w1 + w2\n",
    "print(s)"
   ]
  }
 ],
 "metadata": {
  "kernelspec": {
   "display_name": "Python 3.10.1 64-bit",
   "language": "python",
   "name": "python3"
  },
  "language_info": {
   "codemirror_mode": {
    "name": "ipython",
    "version": 3
   },
   "file_extension": ".py",
   "mimetype": "text/x-python",
   "name": "python",
   "nbconvert_exporter": "python",
   "pygments_lexer": "ipython3",
   "version": "3.10.1"
  },
  "orig_nbformat": 4,
  "vscode": {
   "interpreter": {
    "hash": "369f2c481f4da34e4445cda3fffd2e751bd1c4d706f27375911949ba6bb62e1c"
   }
  }
 },
 "nbformat": 4,
 "nbformat_minor": 2
}
