{
 "cells": [
  {
   "cell_type": "code",
   "execution_count": 1,
   "metadata": {},
   "outputs": [
    {
     "name": "stdout",
     "output_type": "stream",
     "text": [
      "17\n"
     ]
    }
   ],
   "source": [
    "# 16진 정수 입력받아 8진수로 출력하기\n",
    "# 16진수를 입력받아 8진수(octal)로 출력해보자.\n",
    "# \n",
    "# 예시\n",
    "# a = input()\n",
    "# n = int(a, 16)      #입력된 a를 16진수로 인식해 변수 n에 저장\n",
    "# print('%o' % n)  #n에 저장되어있는 값을 8진수(octal) 형태 문자열로 출력\n",
    "# \n",
    "# 참고\n",
    "# 8진법은 한 자리에 8개(0 1 2 3 4 5 6 7)의 문자를 사용한다.\n",
    "# 8진수 10은 10진수의 8, 11은 9, 12는 10 ... 와 같다.\n",
    "\n",
    "hex = int(input(), 16) # 입력된 값을 16진수로 인식하여 hex에 저장\n",
    "print('%o'% hex) # 16진수 값을 8진수로 변환하여 출력\n"
   ]
  }
 ],
 "metadata": {
  "kernelspec": {
   "display_name": "Python 3.10.1 64-bit",
   "language": "python",
   "name": "python3"
  },
  "language_info": {
   "codemirror_mode": {
    "name": "ipython",
    "version": 3
   },
   "file_extension": ".py",
   "mimetype": "text/x-python",
   "name": "python",
   "nbconvert_exporter": "python",
   "pygments_lexer": "ipython3",
   "version": "3.10.1"
  },
  "orig_nbformat": 4,
  "vscode": {
   "interpreter": {
    "hash": "369f2c481f4da34e4445cda3fffd2e751bd1c4d706f27375911949ba6bb62e1c"
   }
  }
 },
 "nbformat": 4,
 "nbformat_minor": 2
}
