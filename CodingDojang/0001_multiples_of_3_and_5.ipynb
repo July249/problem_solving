{
 "cells": [
  {
   "cell_type": "code",
   "execution_count": 3,
   "metadata": {},
   "outputs": [
    {
     "name": "stdout",
     "output_type": "stream",
     "text": [
      "233168\n"
     ]
    }
   ],
   "source": [
    "sum = 0\n",
    "for i in range(1, 1000):\n",
    "  if (i % 3 == 0 or i % 5 == 0):\n",
    "    sum += i\n",
    "print(sum)\n"
   ]
  }
 ],
 "metadata": {
  "kernelspec": {
   "display_name": "Python 3.9.7 ('base')",
   "language": "python",
   "name": "python3"
  },
  "language_info": {
   "codemirror_mode": {
    "name": "ipython",
    "version": 3
   },
   "file_extension": ".py",
   "mimetype": "text/x-python",
   "name": "python",
   "nbconvert_exporter": "python",
   "pygments_lexer": "ipython3",
   "version": "3.9.7"
  },
  "orig_nbformat": 4,
  "vscode": {
   "interpreter": {
    "hash": "4d91e8918a7e9bd8b4c0e790d4613ef41f88ca0a8adbe5b015ed63e9883003d6"
   }
  }
 },
 "nbformat": 4,
 "nbformat_minor": 2
}
