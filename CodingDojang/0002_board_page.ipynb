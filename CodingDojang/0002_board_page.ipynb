{
 "cells": [
  {
   "cell_type": "code",
   "execution_count": 5,
   "metadata": {},
   "outputs": [
    {
     "name": "stdout",
     "output_type": "stream",
     "text": [
      "20\n"
     ]
    }
   ],
   "source": [
    "# 총 게시물의 개수 m\n",
    "# 한 페이지에 보여줄 게시물 수 n\n",
    "# 총 페이지 수는?\n",
    "import math\n",
    "\n",
    "m = 97\n",
    "n = 5\n",
    "numPage = math.ceil(m / n)\n",
    "print(numPage)"
   ]
  }
 ],
 "metadata": {
  "kernelspec": {
   "display_name": "Python 3.9.7 ('base')",
   "language": "python",
   "name": "python3"
  },
  "language_info": {
   "codemirror_mode": {
    "name": "ipython",
    "version": 3
   },
   "file_extension": ".py",
   "mimetype": "text/x-python",
   "name": "python",
   "nbconvert_exporter": "python",
   "pygments_lexer": "ipython3",
   "version": "3.9.7"
  },
  "orig_nbformat": 4,
  "vscode": {
   "interpreter": {
    "hash": "4d91e8918a7e9bd8b4c0e790d4613ef41f88ca0a8adbe5b015ed63e9883003d6"
   }
  }
 },
 "nbformat": 4,
 "nbformat_minor": 2
}
