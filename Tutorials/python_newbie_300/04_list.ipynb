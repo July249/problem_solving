{
 "cells": [
  {
   "cell_type": "code",
   "execution_count": 1,
   "metadata": {},
   "outputs": [
    {
     "name": "stdout",
     "output_type": "stream",
     "text": [
      "['닥터 스트레인지', '스플릿', '럭키']\n"
     ]
    }
   ],
   "source": [
    " # 051. 리스트 생성\n",
    " # 영화 제목을 movie_rank 이름의 리스트에 저장해보세요.(순위는 저장하지 않습니다.)\n",
    " movie_rank = ['닥터 스트레인지', '스플릿', '럭키']\n",
    " print(movie_rank)"
   ]
  },
  {
   "cell_type": "code",
   "execution_count": 2,
   "metadata": {},
   "outputs": [
    {
     "name": "stdout",
     "output_type": "stream",
     "text": [
      "['닥터 스트레인지', '스플릿', '럭키', '배트맨']\n"
     ]
    }
   ],
   "source": [
    "# 052. 리스트에 원소 추가\n",
    "# 051의 movie_rank 리스트에 \"배트맨\"을 추가하라.\n",
    "movie_rank.append(\"배트맨\")\n",
    "print(movie_rank)"
   ]
  },
  {
   "cell_type": "code",
   "execution_count": 3,
   "metadata": {},
   "outputs": [
    {
     "name": "stdout",
     "output_type": "stream",
     "text": [
      "['닥터 스트레인지', '슈퍼맨', '스플릿', '럭키', '배트맨']\n"
     ]
    }
   ],
   "source": [
    "# 053. 리스트에 원소 추가\n",
    "# movie_rank 리스트에는 아래와 같이 4개의 영화 제목이 바인딩되어 있다. \"슈퍼맨\"을 \"닥터 스트레인지\"와 \"스플릿\" 사이에 추가하라.\n",
    "movie_rank.insert(1, \"슈퍼맨\")\n",
    "print(movie_rank)"
   ]
  },
  {
   "cell_type": "code",
   "execution_count": 4,
   "metadata": {},
   "outputs": [
    {
     "name": "stdout",
     "output_type": "stream",
     "text": [
      "['닥터 스트레인지', '슈퍼맨', '스플릿', '배트맨']\n"
     ]
    }
   ],
   "source": [
    "# 054. \n",
    "# movie_rank 리스트에서 \"럭키\"를 삭제하라.\n",
    "#movie_rank.remove(\"럭키\")\n",
    "del movie_rank[3]\n",
    "print(movie_rank)"
   ]
  },
  {
   "cell_type": "markdown",
   "metadata": {},
   "source": [
    "**What is the difference between remove, del and pop in Python?**\n",
    "\n",
    "1. `.remove()`\n",
    "\n",
    "> `.remove()` removes the first matching value/object. It does not do anything with the indexing.\n",
    "> ```\n",
    "> myList = [1, 2, 3, 2]\n",
    ">\n",
    "> myList.remove(2)\n",
    ">\n",
    "> print(myList)\n",
    "> # prints [1, 3, 2]\n",
    ">```\n",
    ">\n",
    "> If you want to remove all the occurrences of an element in the list, you need to loop over all elements. Check the element and remove it if it is present.\n",
    "\n",
    "2. del list[]\n",
    "\n",
    "> `del` removes the item at a specific index.\n",
    "> ```\n",
    "> myList = [3, 2, 2, 1]\n",
    ">\n",
    "> del myList[1]\n",
    ">\n",
    "> print(myList)\n",
    "> # prints [3, 2, 1]\n",
    "> ```\n",
    ">\n",
    "> Note: You can also delete the entire list using `del` keyword.\n",
    "\n",
    "3. `.pop()`\n",
    "\n",
    "> `.pop()` removes the item at a specific index and returns it.\n",
    ">\n",
    "> ```\n",
    "> myList = [4, 3, 5]\n",
    ">\n",
    "> myList.pop(1)\n",
    ">\n",
    "> print(myList)\n",
    "> # print [4, 5]\n",
    "\n",
    "4. Difference between `.remove()`, `del` and `.pop()` in Python list\n",
    "\n",
    "* `.remove()` delete the matching element/object whereas `del` and `.pop()` removes the element a specific index.\n",
    "* `del` and `.pop()` deals with the index. The only difference between the two is that - `.pop()` return deleted the value from the list and `del` does not return anything.\n",
    "* `.pop()` is the only way that returns the object.\n",
    "* `.remove()` is the only one that searches objects (not index).\n",
    "\n",
    "5. Which is the best way to delete the element in the List?\n",
    "\n",
    "* If you want to delete a specific object in the list, use `.remove()` method.\n",
    "* If you want to delete the object at a specific location (index) in the list, you can either use or `.pop()`.\n",
    "* Use the `.pop()`, if you want to delete and get the object at the specific location.\n",
    "\n",
    "**Note**\n",
    "  * You don't need to import any extra module to use these methods to remove an element from the list.\n",
    "  * You can not use these methods with a tuple as \"Python tuple is different from the list.\""
   ]
  },
  {
   "cell_type": "code",
   "execution_count": 5,
   "metadata": {},
   "outputs": [
    {
     "name": "stdout",
     "output_type": "stream",
     "text": [
      "['닥터 스트레인지', '슈퍼맨']\n"
     ]
    }
   ],
   "source": [
    "# 055.\n",
    "# movie_rank 리스트에서 \"스플릿\"과 \"배트맨\"을 삭제하라.\n",
    "movie_rank = ['닥터 스트레인지', '슈퍼맨', '스플릿', '배트맨']\n",
    "# 리스트에서 어떤 값을 삭제하면 남은 값들은 새로 인덱싱됩니다.\n",
    "# 따라서 여러 값을 삭제할 때는 어떤 값이 먼저 삭제된 후 남은 원소들에 대해서 순서를 새로 고려한 후 삭제해야합니다.\n",
    "del movie_rank[2]\n",
    "del movie_rank[2]\n",
    "print(movie_rank)"
   ]
  },
  {
   "cell_type": "code",
   "execution_count": 7,
   "metadata": {},
   "outputs": [
    {
     "name": "stdout",
     "output_type": "stream",
     "text": [
      "['C', 'C++', 'JAVA', 'Python', 'Go', 'C#']\n"
     ]
    }
   ],
   "source": [
    "# 056. \n",
    "# lang1과 lang2 리스트가 있을 때 lang1과 lang2의 원소를 모두 갖고 있는 langs 리스트를 만들어라.\n",
    "lang1 = [\"C\", \"C++\", \"JAVA\"]\n",
    "lang2 = [\"Python\", \"Go\", \"C#\"]\n",
    "langs = lang1 + lang2\n",
    "print(langs)"
   ]
  },
  {
   "cell_type": "code",
   "execution_count": 8,
   "metadata": {},
   "outputs": [
    {
     "name": "stdout",
     "output_type": "stream",
     "text": [
      "min: 1\n",
      "max: 7\n"
     ]
    }
   ],
   "source": [
    "# 057.\n",
    "# 다음 리스트에서 최댓값과 최솟값을 출력하라.\n",
    "nums = [1, 2, 3, 4, 5, 6, 7]\n",
    "min_nums = min(nums)\n",
    "max_nums = max(nums)\n",
    "print(\"min:\", min_nums)\n",
    "print(\"max:\", max_nums)\n",
    "#print(\"min: \" + str(min_nums))\n",
    "#print(\"max: \" + str(max_nums))"
   ]
  },
  {
   "cell_type": "code",
   "execution_count": 9,
   "metadata": {},
   "outputs": [
    {
     "name": "stdout",
     "output_type": "stream",
     "text": [
      "15\n"
     ]
    }
   ],
   "source": [
    "# 058.\n",
    "# 다음 리스트의 합을 출력하라.\n",
    "nums = [1, 2, 3, 4, 5]\n",
    "print(sum(nums))"
   ]
  },
  {
   "cell_type": "code",
   "execution_count": 10,
   "metadata": {},
   "outputs": [
    {
     "name": "stdout",
     "output_type": "stream",
     "text": [
      "12\n"
     ]
    }
   ],
   "source": [
    "# 059.\n",
    "# 다음 리스트에 저장된 데이터의 개수를 화면에 표시하라\n",
    "cook = [\"피자\", \"김밥\", \"만두\", \"양념치킨\", \"족발\", \"피자\", \"김치만두\", \"쫄면\", \"소시지\", \"라면\", \"팥빙수\", \"김치전\"]\n",
    "print(len(cook))"
   ]
  },
  {
   "cell_type": "code",
   "execution_count": 11,
   "metadata": {},
   "outputs": [
    {
     "name": "stdout",
     "output_type": "stream",
     "text": [
      "3.0\n"
     ]
    }
   ],
   "source": [
    "# 060.\n",
    "# 다음 리스트의 평균을 출력하라.\n",
    "nums = [1, 2, 3, 4, 5]\n",
    "print(sum(nums)/len(nums)) "
   ]
  },
  {
   "cell_type": "code",
   "execution_count": 12,
   "metadata": {},
   "outputs": [
    {
     "name": "stdout",
     "output_type": "stream",
     "text": [
      "[100, 130, 140, 150, 160, 170]\n"
     ]
    }
   ],
   "source": [
    "# 061.\n",
    "# price 변수에는 날짜와 종가정보가 저장되어 있다. 날짜 정보를 제외하고 가격정보만을 출력하라.\n",
    "# (힌트: 슬라이싱)\n",
    "price = ['20180728', 100, 130, 140, 150, 160, 170]\n",
    "print(price[1:])"
   ]
  },
  {
   "cell_type": "code",
   "execution_count": 13,
   "metadata": {},
   "outputs": [
    {
     "name": "stdout",
     "output_type": "stream",
     "text": [
      "[1, 3, 5, 7, 9]\n"
     ]
    }
   ],
   "source": [
    "# 062\n",
    "# 슬라이싱을 사용해서 홀수만 출력하라.\n",
    "nums = [1, 2, 3, 4, 5, 6, 7, 8, 9, 10]\n",
    "print(nums[::2])"
   ]
  },
  {
   "cell_type": "code",
   "execution_count": 14,
   "metadata": {},
   "outputs": [
    {
     "name": "stdout",
     "output_type": "stream",
     "text": [
      "[2, 4, 6, 8, 10]\n"
     ]
    }
   ],
   "source": [
    "# 063\n",
    "# 슬라이싱을 사용해서 짝수만 출력하라.\n",
    "nums = [1, 2, 3, 4, 5, 6, 7, 8, 9, 10]\n",
    "print(nums[1::2])"
   ]
  },
  {
   "cell_type": "code",
   "execution_count": 15,
   "metadata": {},
   "outputs": [
    {
     "name": "stdout",
     "output_type": "stream",
     "text": [
      "[5, 4, 3, 2, 1]\n"
     ]
    }
   ],
   "source": [
    "# 064\n",
    "# 슬라이싱을 사용해서 리스트의 숫자를 역방향으로 출력하라.\n",
    "nums = [1, 2, 3, 4, 5]\n",
    "print(nums[::-1])"
   ]
  },
  {
   "cell_type": "code",
   "execution_count": 16,
   "metadata": {},
   "outputs": [
    {
     "name": "stdout",
     "output_type": "stream",
     "text": [
      "삼성전자 Naver\n"
     ]
    }
   ],
   "source": [
    "# 065\n",
    "# interest 리스트에는 아래의 데이터가 바인딩되어 있다.\n",
    "interest = ['삼성전자', 'LG전자', 'Naver']\n",
    "# interest 리스트를 사용하여 아래와 같이 화면에 출력하라.\n",
    "# 삼성전자 Naver\n",
    "print(interest[0], interest[2])"
   ]
  },
  {
   "cell_type": "code",
   "execution_count": 19,
   "metadata": {},
   "outputs": [
    {
     "name": "stdout",
     "output_type": "stream",
     "text": [
      "삼성전자 LG전자 Naver SK하이닉스 미래에셋대우\n",
      "<class 'str'>\n"
     ]
    }
   ],
   "source": [
    "# 066. join method\n",
    "# interest 리스트에는 아래의 데이터가 바인딩되어 있다.\n",
    "interest = ['삼성전자', 'LG전자', 'Naver', 'SK하이닉스', '미래에셋대우']\n",
    "# interest 리스트를 사용하여 아래와 같이 화면에 출력하라.\n",
    "print(' '.join(interest))\n",
    "print(type(' '.join(interest)))"
   ]
  },
  {
   "cell_type": "code",
   "execution_count": 20,
   "metadata": {},
   "outputs": [
    {
     "name": "stdout",
     "output_type": "stream",
     "text": [
      "삼성전자/LG전자/Naver/SK하이닉스/미래에셋대우\n"
     ]
    }
   ],
   "source": [
    "# 067. join method\n",
    "interest = ['삼성전자', 'LG전자', 'Naver', 'SK하이닉스', '미래에셋대우']\n",
    "print(\"/\".join(interest))"
   ]
  },
  {
   "cell_type": "code",
   "execution_count": 21,
   "metadata": {},
   "outputs": [
    {
     "name": "stdout",
     "output_type": "stream",
     "text": [
      "삼성전자\n",
      "LG전자\n",
      "Naver\n",
      "SK하이닉스\n",
      "미래에셋대우\n"
     ]
    }
   ],
   "source": [
    "# 068. join method\n",
    "# interest 리스트에는 아래의 데이터가 바인딩되어 있다.\n",
    "interest = ['삼성전자', 'LG전자', 'Naver', 'SK하이닉스', '미래에셋대우']\n",
    "# join() 메서드를 사용해서 interest 리스트를 아래와 같이 화면에 출력하라.\n",
    "print(\"\\n\".join(interest))"
   ]
  },
  {
   "cell_type": "code",
   "execution_count": 22,
   "metadata": {},
   "outputs": [
    {
     "name": "stdout",
     "output_type": "stream",
     "text": [
      "['삼성전자', 'LG전자', 'Naver']\n"
     ]
    }
   ],
   "source": [
    "# 069. 문자열 split method\n",
    "# 회사 이름이 슬래시(\"/\")로 구분되어 하나의 문자열로 저장되어 있다.\n",
    "string = \"삼성전자/LG전자/Naver\"\n",
    "# 이를 interest 이름의 리스트로 분리 저장하라.\n",
    "print(string.split(\"/\"))"
   ]
  },
  {
   "cell_type": "code",
   "execution_count": null,
   "metadata": {},
   "outputs": [],
   "source": [
    "# 070. 리스트 정렬\n",
    "# 리스트에 있는 값을 오름차순으로 정렬하세요.\n",
    "data = [2, 4, 3, 1, 5, 10, 9]\n",
    "data.sort()\n",
    "print(data)\n",
    "data2 = sorted(data)\n",
    "print(data2)"
   ]
  },
  {
   "cell_type": "markdown",
   "metadata": {},
   "source": [
    "**What is the difference between `.sort()` and `sorted()`in Python?**\n",
    "\n",
    "In Python, sorting is easily done with the built-in methods `.sort()` and `sorted()`.\n",
    "\n",
    "The `sorted()` and `.sort()` methods sort the given sequence in either ascending or descending order.\n",
    "\n",
    "1. `sorted()`\n",
    "\n",
    "> This method doesn't change the original list.\n",
    ">* Return Type: returns a sorted list.\n",
    ">\n",
    ">* Iterable: It can be operated on any sequence (list, tuple, string), collection (dictionary, set, frozenset), or other iterator that needs to be sorted.\n",
    "\n",
    "2. `.sort()`\n",
    "\n",
    "> This method makes changes to the original sequence.\n",
    ">\n",
    "> * Return Type: returns none, has no return value.\n",
    ">\n",
    "> * `.sort()` is a method of the list class, so it can only be used with lists."
   ]
  }
 ],
 "metadata": {
  "kernelspec": {
   "display_name": "Python 3.9.7 ('main')",
   "language": "python",
   "name": "python3"
  },
  "language_info": {
   "codemirror_mode": {
    "name": "ipython",
    "version": 3
   },
   "file_extension": ".py",
   "mimetype": "text/x-python",
   "name": "python",
   "nbconvert_exporter": "python",
   "pygments_lexer": "ipython3",
   "version": "3.9.7"
  },
  "orig_nbformat": 4,
  "vscode": {
   "interpreter": {
    "hash": "4207f63ba6858c5306bcd7e1644ef1cb429179d7f09b4fcd9a676ec33ad46998"
   }
  }
 },
 "nbformat": 4,
 "nbformat_minor": 2
}
