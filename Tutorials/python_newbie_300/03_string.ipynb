{
 "cells": [
  {
   "cell_type": "code",
   "execution_count": 2,
   "metadata": {},
   "outputs": [
    {
     "name": "stdout",
     "output_type": "stream",
     "text": [
      "p t\n"
     ]
    }
   ],
   "source": [
    "# 021. 문자열 인덱싱\n",
    "# letters가 바인딩하는 문자열에서 첫번째와 세번째 문자를 출력하세요.\n",
    "letters = \"python\"\n",
    "print(letters[0], letters[2])"
   ]
  },
  {
   "cell_type": "code",
   "execution_count": 1,
   "metadata": {},
   "outputs": [
    {
     "name": "stdout",
     "output_type": "stream",
     "text": [
      "2210\n",
      "2210\n"
     ]
    }
   ],
   "source": [
    "# 022. 문자열 슬라이싱\n",
    "# 자동차 번호가 다음과 같을 때 뒤에서 4자리까지만 출력하세요.\n",
    "license_plate = \"24A-2210\"\n",
    "print(license_plate[4:])\n",
    "print(license_plate[-4:])"
   ]
  },
  {
   "cell_type": "code",
   "execution_count": 3,
   "metadata": {},
   "outputs": [
    {
     "name": "stdout",
     "output_type": "stream",
     "text": [
      "OOO\n"
     ]
    }
   ],
   "source": [
    "# 023. 문자열 인덱싱\n",
    "string = \"OEOEOE\"\n",
    "print(string[::2])\n",
    "# 슬라이싱을 할 때 [start index:end index:구간]"
   ]
  },
  {
   "cell_type": "code",
   "execution_count": 4,
   "metadata": {},
   "outputs": [
    {
     "name": "stdout",
     "output_type": "stream",
     "text": [
      "NOHTYP\n"
     ]
    }
   ],
   "source": [
    "# 024. 문자열 슬라이싱\n",
    "string = \"PYTHON\"\n",
    "print(string[::-1])\n",
    "# 역순으로 출력됨"
   ]
  },
  {
   "cell_type": "code",
   "execution_count": 5,
   "metadata": {},
   "outputs": [
    {
     "name": "stdout",
     "output_type": "stream",
     "text": [
      "010 1111 2222\n"
     ]
    }
   ],
   "source": [
    "# 025. 문자열 치환\n",
    "# 아래의 전화번호에서 하이푼(\"-\")을 제거하고 출력하시오.\n",
    "phone_number = \"010-1111-2222\"\n",
    "new_phone_number = phone_number.replace(\"-\", \" \")\n",
    "print(new_phone_number)"
   ]
  },
  {
   "cell_type": "code",
   "execution_count": 6,
   "metadata": {},
   "outputs": [
    {
     "name": "stdout",
     "output_type": "stream",
     "text": [
      "01011112222\n"
     ]
    }
   ],
   "source": [
    "# 026. 문자열 다루기\n",
    "# 25번의 전화번호를 모두 붙여서 출력하시오.\n",
    "new_phone_number2 = phone_number.replace(\"-\", \"\")\n",
    "print(new_phone_number2)"
   ]
  },
  {
   "cell_type": "code",
   "execution_count": 7,
   "metadata": {},
   "outputs": [
    {
     "name": "stdout",
     "output_type": "stream",
     "text": [
      "['http://sharebook', 'kr']\n",
      "kr\n",
      "http://sharebook\n",
      "kr\n",
      "['http:', 'sharebook.kr']\n"
     ]
    }
   ],
   "source": [
    "# 027. 문자열 다루기\n",
    "# URL에 저장된 웹페이지 주소에서 도메인을 출력하시오.\n",
    "url = \"http://sharebook.kr\"\n",
    "# print(url[-2:])\n",
    "url_split = url.split(\".\")\n",
    "print(url_split)\n",
    "print(url_split[-1])\n",
    "print(url_split[0])\n",
    "print(url_split[1])\n",
    "url_split2 = url.split('//')\n",
    "print(url_split2)\n"
   ]
  },
  {
   "cell_type": "code",
   "execution_count": 16,
   "metadata": {},
   "outputs": [
    {
     "ename": "TypeError",
     "evalue": "'str' object does not support item assignment",
     "output_type": "error",
     "traceback": [
      "\u001b[1;31m---------------------------------------------------------------------------\u001b[0m",
      "\u001b[1;31mTypeError\u001b[0m                                 Traceback (most recent call last)",
      "Cell \u001b[1;32mIn [16], line 3\u001b[0m\n\u001b[0;32m      1\u001b[0m \u001b[38;5;66;03m# 028. 문자열은 immutable\u001b[39;00m\n\u001b[0;32m      2\u001b[0m lang \u001b[38;5;241m=\u001b[39m \u001b[38;5;124m'\u001b[39m\u001b[38;5;124mpython\u001b[39m\u001b[38;5;124m'\u001b[39m\n\u001b[1;32m----> 3\u001b[0m lang[\u001b[38;5;241m0\u001b[39m] \u001b[38;5;241m=\u001b[39m \u001b[38;5;124m'\u001b[39m\u001b[38;5;124mP\u001b[39m\u001b[38;5;124m'\u001b[39m\n\u001b[0;32m      4\u001b[0m \u001b[38;5;28mprint\u001b[39m(lang\u001b[38;5;241m.\u001b[39mreplace(\u001b[38;5;124m'\u001b[39m\u001b[38;5;124mp\u001b[39m\u001b[38;5;124m'\u001b[39m, \u001b[38;5;124m'\u001b[39m\u001b[38;5;124mP\u001b[39m\u001b[38;5;124m'\u001b[39m))\n\u001b[0;32m      5\u001b[0m \u001b[38;5;28mprint\u001b[39m(lang)\n",
      "\u001b[1;31mTypeError\u001b[0m: 'str' object does not support item assignment"
     ]
    }
   ],
   "source": [
    "# 028. 문자열은 immutable\n",
    "lang = 'python'\n",
    "lang[0] = 'P'\n",
    "print(lang.replace('p', 'P'))\n",
    "print(lang)\n",
    "\n",
    "# 문자열은 수정할 수 없습니다.\n",
    "# 실행결과를 확인해보면 문자열이 할당(assignment) 매서드를 지원하지 않음"
   ]
  },
  {
   "cell_type": "code",
   "execution_count": 11,
   "metadata": {},
   "outputs": [
    {
     "name": "stdout",
     "output_type": "stream",
     "text": [
      "Abcdfe2A354A32A\n",
      "abcdfe2a354a32a\n"
     ]
    }
   ],
   "source": [
    "# 029. replace 메서드\n",
    "# 소문자 \"a\"를 대문자 \"A\"로 변경하시오.\n",
    "string = \"abcdfe2a354a32a\"\n",
    "print(string.replace('a', 'A'))\n",
    "print(string)"
   ]
  },
  {
   "cell_type": "code",
   "execution_count": 18,
   "metadata": {},
   "outputs": [
    {
     "name": "stdout",
     "output_type": "stream",
     "text": [
      "abcd\n",
      "aBcd\n"
     ]
    }
   ],
   "source": [
    "# 030. replace 메서드\n",
    "string = 'abcd'\n",
    "string.replace('b', 'B')\n",
    "print(string)\n",
    "# \"abcd\"가 그대로 출력됨\n",
    "# 문자열을 변경할 수 없는 자료형이기 때문이다.\n",
    "# replace 메서드를 사용하면 원본은 그대로 둔채로 변경된 새로운 문자열 객체를 return해줍니다.\n",
    "\n",
    "changedString = string.replace('b', 'B') # 새로운 변수에 할당\n",
    "print(changedString)\n",
    "\n"
   ]
  }
 ],
 "metadata": {
  "kernelspec": {
   "display_name": "Python 3.9.7 ('main')",
   "language": "python",
   "name": "python3"
  },
  "language_info": {
   "codemirror_mode": {
    "name": "ipython",
    "version": 3
   },
   "file_extension": ".py",
   "mimetype": "text/x-python",
   "name": "python",
   "nbconvert_exporter": "python",
   "pygments_lexer": "ipython3",
   "version": "3.9.7"
  },
  "orig_nbformat": 4,
  "vscode": {
   "interpreter": {
    "hash": "4207f63ba6858c5306bcd7e1644ef1cb429179d7f09b4fcd9a676ec33ad46998"
   }
  }
 },
 "nbformat": 4,
 "nbformat_minor": 2
}
