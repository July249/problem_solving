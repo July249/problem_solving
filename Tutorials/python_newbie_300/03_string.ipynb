{
 "cells": [
  {
   "cell_type": "code",
   "execution_count": 2,
   "metadata": {},
   "outputs": [
    {
     "name": "stdout",
     "output_type": "stream",
     "text": [
      "p t\n"
     ]
    }
   ],
   "source": [
    "# 021. 문자열 인덱싱\n",
    "# letters가 바인딩하는 문자열에서 첫번째와 세번째 문자를 출력하세요.\n",
    "letters = \"python\"\n",
    "print(letters[0], letters[2])"
   ]
  },
  {
   "cell_type": "code",
   "execution_count": 1,
   "metadata": {},
   "outputs": [
    {
     "name": "stdout",
     "output_type": "stream",
     "text": [
      "2210\n",
      "2210\n"
     ]
    }
   ],
   "source": [
    "# 022. 문자열 슬라이싱\n",
    "# 자동차 번호가 다음과 같을 때 뒤에서 4자리까지만 출력하세요.\n",
    "license_plate = \"24A-2210\"\n",
    "print(license_plate[4:])\n",
    "print(license_plate[-4:])"
   ]
  },
  {
   "cell_type": "code",
   "execution_count": 3,
   "metadata": {},
   "outputs": [
    {
     "name": "stdout",
     "output_type": "stream",
     "text": [
      "OOO\n"
     ]
    }
   ],
   "source": [
    "# 023. 문자열 인덱싱\n",
    "string = \"OEOEOE\"\n",
    "print(string[::2])\n",
    "# 슬라이싱을 할 때 [start index:end index:구간]"
   ]
  },
  {
   "cell_type": "code",
   "execution_count": 4,
   "metadata": {},
   "outputs": [
    {
     "name": "stdout",
     "output_type": "stream",
     "text": [
      "NOHTYP\n"
     ]
    }
   ],
   "source": [
    "# 024. 문자열 슬라이싱\n",
    "string = \"PYTHON\"\n",
    "print(string[::-1])\n",
    "# 역순으로 출력됨"
   ]
  },
  {
   "cell_type": "code",
   "execution_count": 5,
   "metadata": {},
   "outputs": [
    {
     "name": "stdout",
     "output_type": "stream",
     "text": [
      "010 1111 2222\n"
     ]
    }
   ],
   "source": [
    "# 025. 문자열 치환\n",
    "# 아래의 전화번호에서 하이푼(\"-\")을 제거하고 출력하시오.\n",
    "phone_number = \"010-1111-2222\"\n",
    "new_phone_number = phone_number.replace(\"-\", \" \")\n",
    "print(new_phone_number)"
   ]
  },
  {
   "cell_type": "code",
   "execution_count": 6,
   "metadata": {},
   "outputs": [
    {
     "name": "stdout",
     "output_type": "stream",
     "text": [
      "01011112222\n"
     ]
    }
   ],
   "source": [
    "# 026. 문자열 다루기\n",
    "# 25번의 전화번호를 모두 붙여서 출력하시오.\n",
    "new_phone_number2 = phone_number.replace(\"-\", \"\")\n",
    "print(new_phone_number2)"
   ]
  },
  {
   "cell_type": "code",
   "execution_count": 7,
   "metadata": {},
   "outputs": [
    {
     "name": "stdout",
     "output_type": "stream",
     "text": [
      "['http://sharebook', 'kr']\n",
      "kr\n",
      "http://sharebook\n",
      "kr\n",
      "['http:', 'sharebook.kr']\n"
     ]
    }
   ],
   "source": [
    "# 027. 문자열 다루기\n",
    "# URL에 저장된 웹페이지 주소에서 도메인을 출력하시오.\n",
    "url = \"http://sharebook.kr\"\n",
    "# print(url[-2:])\n",
    "url_split = url.split(\".\")\n",
    "print(url_split)\n",
    "print(url_split[-1])\n",
    "print(url_split[0])\n",
    "print(url_split[1])\n",
    "url_split2 = url.split('//')\n",
    "print(url_split2)\n"
   ]
  },
  {
   "cell_type": "code",
   "execution_count": 16,
   "metadata": {},
   "outputs": [
    {
     "ename": "TypeError",
     "evalue": "'str' object does not support item assignment",
     "output_type": "error",
     "traceback": [
      "\u001b[1;31m---------------------------------------------------------------------------\u001b[0m",
      "\u001b[1;31mTypeError\u001b[0m                                 Traceback (most recent call last)",
      "Cell \u001b[1;32mIn [16], line 3\u001b[0m\n\u001b[0;32m      1\u001b[0m \u001b[38;5;66;03m# 028. 문자열은 immutable\u001b[39;00m\n\u001b[0;32m      2\u001b[0m lang \u001b[38;5;241m=\u001b[39m \u001b[38;5;124m'\u001b[39m\u001b[38;5;124mpython\u001b[39m\u001b[38;5;124m'\u001b[39m\n\u001b[1;32m----> 3\u001b[0m lang[\u001b[38;5;241m0\u001b[39m] \u001b[38;5;241m=\u001b[39m \u001b[38;5;124m'\u001b[39m\u001b[38;5;124mP\u001b[39m\u001b[38;5;124m'\u001b[39m\n\u001b[0;32m      4\u001b[0m \u001b[38;5;28mprint\u001b[39m(lang\u001b[38;5;241m.\u001b[39mreplace(\u001b[38;5;124m'\u001b[39m\u001b[38;5;124mp\u001b[39m\u001b[38;5;124m'\u001b[39m, \u001b[38;5;124m'\u001b[39m\u001b[38;5;124mP\u001b[39m\u001b[38;5;124m'\u001b[39m))\n\u001b[0;32m      5\u001b[0m \u001b[38;5;28mprint\u001b[39m(lang)\n",
      "\u001b[1;31mTypeError\u001b[0m: 'str' object does not support item assignment"
     ]
    }
   ],
   "source": [
    "# 028. 문자열은 immutable\n",
    "lang = 'python'\n",
    "lang[0] = 'P'\n",
    "print(lang.replace('p', 'P'))\n",
    "print(lang)\n",
    "\n",
    "# 문자열은 수정할 수 없습니다.\n",
    "# 실행결과를 확인해보면 문자열이 할당(assignment) 매서드를 지원하지 않음"
   ]
  },
  {
   "cell_type": "code",
   "execution_count": 11,
   "metadata": {},
   "outputs": [
    {
     "name": "stdout",
     "output_type": "stream",
     "text": [
      "Abcdfe2A354A32A\n",
      "abcdfe2a354a32a\n"
     ]
    }
   ],
   "source": [
    "# 029. replace 메서드\n",
    "# 소문자 \"a\"를 대문자 \"A\"로 변경하시오.\n",
    "string = \"abcdfe2a354a32a\"\n",
    "print(string.replace('a', 'A'))\n",
    "print(string)"
   ]
  },
  {
   "cell_type": "code",
   "execution_count": 18,
   "metadata": {},
   "outputs": [
    {
     "name": "stdout",
     "output_type": "stream",
     "text": [
      "abcd\n",
      "aBcd\n"
     ]
    }
   ],
   "source": [
    "# 030. replace 메서드\n",
    "string = 'abcd'\n",
    "string.replace('b', 'B')\n",
    "print(string)\n",
    "# \"abcd\"가 그대로 출력됨\n",
    "# 문자열을 변경할 수 없는 자료형이기 때문이다.\n",
    "# replace 메서드를 사용하면 원본은 그대로 둔채로 변경된 새로운 문자열 객체를 return해줍니다.\n",
    "\n",
    "changedString = string.replace('b', 'B') # 새로운 변수에 할당\n",
    "print(changedString)\n",
    "\n"
   ]
  },
  {
   "cell_type": "code",
   "execution_count": 1,
   "metadata": {},
   "outputs": [
    {
     "name": "stdout",
     "output_type": "stream",
     "text": [
      "34\n"
     ]
    }
   ],
   "source": [
    "# 031. 문자열 합치기\n",
    "a = '3'\n",
    "b = '4'\n",
    "print(a + b)\n",
    "\n",
    "# 문자열 덧셈을 하면 문자가 합쳐진다."
   ]
  },
  {
   "cell_type": "code",
   "execution_count": 2,
   "metadata": {},
   "outputs": [
    {
     "name": "stdout",
     "output_type": "stream",
     "text": [
      "HIHIHI\n"
     ]
    }
   ],
   "source": [
    "# 032. 문자열 곱하기\n",
    "print(\"HI\" * 3)\n",
    "\n",
    "# \"HI\"를 3번 연속하여 출력한다."
   ]
  },
  {
   "cell_type": "code",
   "execution_count": 3,
   "metadata": {},
   "outputs": [
    {
     "name": "stdout",
     "output_type": "stream",
     "text": [
      "--------------------------------------------------------------------------------\n"
     ]
    }
   ],
   "source": [
    "# 033. 문자열 곱하기\n",
    "print(\"-\" * 80)"
   ]
  },
  {
   "cell_type": "code",
   "execution_count": 4,
   "metadata": {},
   "outputs": [
    {
     "name": "stdout",
     "output_type": "stream",
     "text": [
      "python java python java python java python java \n"
     ]
    }
   ],
   "source": [
    "# 034. 문자열 곱하기\n",
    "t1 = \"python\"\n",
    "t2 = \"java\"\n",
    "a = t1 + \" \" + t2 + \" \"\n",
    "print(a * 4)"
   ]
  },
  {
   "cell_type": "code",
   "execution_count": 5,
   "metadata": {},
   "outputs": [
    {
     "name": "stdout",
     "output_type": "stream",
     "text": [
      "이름: 김민수  나이: 10\n",
      "이름: 이철희  나이: 13\n"
     ]
    }
   ],
   "source": [
    "# 035. 문자열 출력\n",
    "# 변수에 다음과 같이 문자열과 정수가 바인딩되어 있을 때 \"% formatting\"을 사용해서 다음과 같이 출력하시오.\n",
    "name1 = \"김민수\"\n",
    "age1 = 10\n",
    "name2 = \"이철희\"\n",
    "age2 = 13\n",
    "print(\"이름: %s  나이: %d\" %(name1, age1))\n",
    "print(\"이름: %s  나이: %d\" %(name2, age2))"
   ]
  },
  {
   "cell_type": "code",
   "execution_count": 6,
   "metadata": {},
   "outputs": [
    {
     "name": "stdout",
     "output_type": "stream",
     "text": [
      "이름: 김민수 나이 : 10\n",
      "이름: 이철희 나이 : 13\n"
     ]
    }
   ],
   "source": [
    "# 036. 문자열 출력\n",
    "# 문자열의 format() 메서드를 사용해서 035번 문제를 다시 풀어보시오.\n",
    "print(\"이름: {name} 나이 : {age}\".format(name=name1, age=age1))\n",
    "print(\"이름: {name} 나이 : {age}\".format(name=name2, age=age2))"
   ]
  },
  {
   "cell_type": "code",
   "execution_count": 7,
   "metadata": {},
   "outputs": [
    {
     "name": "stdout",
     "output_type": "stream",
     "text": [
      "이름: 김민수 나이: 10\n",
      "이름: 이철희 나이: 13\n"
     ]
    }
   ],
   "source": [
    "# 037. 문자열 출력\n",
    "# f-string을 사용하여 35번 문제를 다시 풀어보시오.\n",
    "name1 = \"김민수\"\n",
    "age1 = 10\n",
    "name2 = \"이철희\"\n",
    "age2 = 13\n",
    "print(f\"이름: {name1} 나이: {age1}\")\n",
    "print(f\"이름: {name2} 나이: {age2}\")\n",
    "# f-string은 문자열 앞에 f가 붙어있는 형태입니다.f-string을 사용하면 {변수}와 같은 형태로 문자열 사이에 타입과 상관없이 값을 출력할 수 있습니다."
   ]
  },
  {
   "cell_type": "code",
   "execution_count": 8,
   "metadata": {},
   "outputs": [
    {
     "name": "stdout",
     "output_type": "stream",
     "text": [
      "5969782550 <class 'int'>\n"
     ]
    }
   ],
   "source": [
    "# 038. 컴마 제거하기\n",
    "# 삼성전자의 상장주식수가 다음과 같습니다. 컴마를 제거한 후 이를 정수 타입으로 변환해보시오.\n",
    "상장주식수 = \"5,969,782,550\"\n",
    "# 정수형으로 타입을 변환하려면 int() 함수를 사용하면 됨\n",
    "# 이 때 숫자 형태의 문자열에 컴마가 있는 경우 바로 변환되지 않습니다.\n",
    "# 먼저 문자열의 replace 메서드로 컴마를 제거한 후 변환해야합니다.\n",
    "remove_comma = 상장주식수.replace(\",\",\"\")\n",
    "type_transition = int(remove_comma)\n",
    "print(type_transition, type(type_transition))"
   ]
  },
  {
   "cell_type": "code",
   "execution_count": 9,
   "metadata": {},
   "outputs": [
    {
     "name": "stdout",
     "output_type": "stream",
     "text": [
      "2020/03\n"
     ]
    }
   ],
   "source": [
    "# 039. 문자열 슬라이싱\n",
    "# 다음과 같은 문자열에서 \"2020/03\"만 출력하시오.\n",
    "분기 = \"2020/03(E) (IFRS연결)\"\n",
    "print(분기[:7])"
   ]
  },
  {
   "cell_type": "code",
   "execution_count": 10,
   "metadata": {},
   "outputs": [
    {
     "name": "stdout",
     "output_type": "stream",
     "text": [
      "삼성전자\n"
     ]
    }
   ],
   "source": [
    "# 040. strip 메서드\n",
    "# 문자열의 좌우의 공백이 있을 때 이를 제거하여보시오.\n",
    "data = \"  삼성전자  \"\n",
    "print(data.strip())\n",
    "# 문자열에서 strip() 메서드를 사용하면 좌우 공백을 제거할 수 있음.\n",
    "# 이때 원본 문자열은 그대로 유지되고 공백이 제거된 새로운 문자열이 반환됩니다."
   ]
  },
  {
   "cell_type": "code",
   "execution_count": 11,
   "metadata": {},
   "outputs": [
    {
     "name": "stdout",
     "output_type": "stream",
     "text": [
      "BTC_KRW\n"
     ]
    }
   ],
   "source": [
    "# 041. upper method\n",
    "# 다음 문자열을 대문자로 변경하시오.\n",
    "ticker = \"btc_krw\"\n",
    "print(ticker.upper())"
   ]
  },
  {
   "cell_type": "code",
   "execution_count": 12,
   "metadata": {},
   "outputs": [
    {
     "name": "stdout",
     "output_type": "stream",
     "text": [
      "btc_krw\n"
     ]
    }
   ],
   "source": [
    "# 042. lower method\n",
    "# 다음 문자열을 소문자로 변경하시오.\n",
    "ticker = \"BTC_KRW\"\n",
    "print(ticker.lower())"
   ]
  },
  {
   "cell_type": "code",
   "execution_count": 13,
   "metadata": {},
   "outputs": [
    {
     "name": "stdout",
     "output_type": "stream",
     "text": [
      "Hello\n",
      "Hello\n"
     ]
    }
   ],
   "source": [
    "# 043. capitalize method\n",
    "# 문자열 \"hello\"가 있을 때 이를 \"Hello\"로 변경하시오.\n",
    "string = \"hello\"\n",
    "print(string.capitalize())\n",
    "print(string.title())"
   ]
  },
  {
   "cell_type": "code",
   "execution_count": 14,
   "metadata": {},
   "outputs": [
    {
     "data": {
      "text/plain": [
       "True"
      ]
     },
     "execution_count": 14,
     "metadata": {},
     "output_type": "execute_result"
    }
   ],
   "source": [
    "# 044. endswith method\n",
    "# 파일 이름이 문자열로 저장되어 있을 때 endswith method를 사용해서 파일이름이 \"xlsx\"로 끝나는지 확인하시오.\n",
    "file_name = \"보고서.xlsx\"\n",
    "file_name.endswith(\"xlsx\")"
   ]
  },
  {
   "cell_type": "code",
   "execution_count": 15,
   "metadata": {},
   "outputs": [
    {
     "data": {
      "text/plain": [
       "True"
      ]
     },
     "execution_count": 15,
     "metadata": {},
     "output_type": "execute_result"
    }
   ],
   "source": [
    "# 045. endwith method\n",
    "# 파일 이름이 문자열로 저장되어 있을 때 endswith method를 사용해서 파일 이름이 \"xlsx\" 또는 \"xls\"로 끝나는지 확인하시오.\n",
    "file_name = \"보고서.xlsx\"\n",
    "file_name.endswith((\"xlsx\", \"xls\"))"
   ]
  },
  {
   "cell_type": "code",
   "execution_count": 16,
   "metadata": {},
   "outputs": [
    {
     "data": {
      "text/plain": [
       "True"
      ]
     },
     "execution_count": 16,
     "metadata": {},
     "output_type": "execute_result"
    }
   ],
   "source": [
    "# 046. startwith method\n",
    "# 파일 이름이 문자열로 저장되어 있을 때 startwith method를 사용해서 파일 이름이 '2020'로 시작하는지 확인하시오.\n",
    "file_name = \"2020_보고서.xlsx\"\n",
    "file_name.startswith(\"2020\")"
   ]
  },
  {
   "cell_type": "code",
   "execution_count": 18,
   "metadata": {},
   "outputs": [
    {
     "name": "stdout",
     "output_type": "stream",
     "text": [
      "['2020', '05', '01'] <class 'list'>\n"
     ]
    }
   ],
   "source": [
    "# 047. split method\n",
    "# 다음과 같이 날짜를 표현하는 문자열이 있을 때 연도, 월, 일로 나눠보시오.\n",
    "data = \"2020-05-01\"\n",
    "splitted_data = data.split(\"-\")\n",
    "print(splitted_data, type(splitted_data))"
   ]
  },
  {
   "cell_type": "markdown",
   "metadata": {},
   "source": [
    "048. split method\n",
    "\n",
    "다음과 같이 문자열이 있을 때 btc와 krw로 나누어 보시오.\n",
    "```\n",
    "ticker = \"btc_krw\"\n",
    "```"
   ]
  },
  {
   "cell_type": "code",
   "execution_count": 19,
   "metadata": {},
   "outputs": [
    {
     "name": "stdout",
     "output_type": "stream",
     "text": [
      "['btc', 'krw']\n"
     ]
    }
   ],
   "source": [
    "ticker = \"btc_krw\"\n",
    "print(ticker.split(\"_\"))"
   ]
  },
  {
   "cell_type": "markdown",
   "metadata": {},
   "source": [
    "049. split method\n",
    "\n",
    "다음과 같이 날짜를 표현하는 문자열이 있을 때, 연도, 월, 일로 나누어 보시오.\n",
    "```\n",
    "date = \"2021-05-01\"\n",
    "```"
   ]
  },
  {
   "cell_type": "code",
   "execution_count": 20,
   "metadata": {},
   "outputs": [
    {
     "name": "stdout",
     "output_type": "stream",
     "text": [
      "['2021', '05', '01']\n"
     ]
    }
   ],
   "source": [
    "date = \"2021-05-01\"\n",
    "print(date.split(\"-\"))"
   ]
  },
  {
   "cell_type": "markdown",
   "metadata": {},
   "source": [
    "050 rstrip method\n",
    "\n",
    "문자열의 오른쪽에 공백이 있을 때 이를 제거하시오.\n",
    "```\n",
    "data = \"039490     \"\n",
    "```"
   ]
  },
  {
   "cell_type": "code",
   "execution_count": 22,
   "metadata": {},
   "outputs": [
    {
     "name": "stdout",
     "output_type": "stream",
     "text": [
      "039490\n",
      "<class 'str'>\n",
      "039490    \n"
     ]
    }
   ],
   "source": [
    "data = \"039490    \"\n",
    "data1 = data.rstrip()\n",
    "print(data1)\n",
    "print(type(data1))\n",
    "print(data)\n",
    "# rstrip() method를 사용하면 오른쪽 공백이 제거된 새로운 문자열 객체가 반환됩니다.\n",
    "# 그 값을 data라는 변수가 새로 바인딩합니다.\n",
    "# 기존의 공백이 포함된 문자열은 메모리에서 자동으로 삭제됩니다."
   ]
  }
 ],
 "metadata": {
  "kernelspec": {
   "display_name": "Python 3.9.7 ('main')",
   "language": "python",
   "name": "python3"
  },
  "language_info": {
   "codemirror_mode": {
    "name": "ipython",
    "version": 3
   },
   "file_extension": ".py",
   "mimetype": "text/x-python",
   "name": "python",
   "nbconvert_exporter": "python",
   "pygments_lexer": "ipython3",
   "version": "3.9.7"
  },
  "orig_nbformat": 4,
  "vscode": {
   "interpreter": {
    "hash": "4207f63ba6858c5306bcd7e1644ef1cb429179d7f09b4fcd9a676ec33ad46998"
   }
  }
 },
 "nbformat": 4,
 "nbformat_minor": 2
}
