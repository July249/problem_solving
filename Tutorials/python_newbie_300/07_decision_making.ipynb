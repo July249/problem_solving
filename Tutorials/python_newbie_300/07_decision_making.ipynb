{
 "cells": [
  {
   "cell_type": "code",
   "execution_count": 1,
   "metadata": {},
   "outputs": [],
   "source": [
    "# 101\n",
    "# 파이썬에서 True, False를 갖는 데이터 타입은 무엇인가?\n",
    "# Answer : Bool"
   ]
  },
  {
   "cell_type": "code",
   "execution_count": 2,
   "metadata": {},
   "outputs": [
    {
     "name": "stdout",
     "output_type": "stream",
     "text": [
      "False\n"
     ]
    }
   ],
   "source": [
    "# 102\n",
    "# 아래 코드의 출력 결과를 예상하라\n",
    "print(3 == 5)\n",
    "# prints \"False\""
   ]
  },
  {
   "cell_type": "code",
   "execution_count": 3,
   "metadata": {},
   "outputs": [
    {
     "name": "stdout",
     "output_type": "stream",
     "text": [
      "True\n"
     ]
    }
   ],
   "source": [
    "# 103\n",
    "# 아래 코드의 출력 결과를 예상하라\n",
    "print(3 < 5)\n",
    "# prints \"True\""
   ]
  },
  {
   "cell_type": "code",
   "execution_count": 4,
   "metadata": {},
   "outputs": [
    {
     "name": "stdout",
     "output_type": "stream",
     "text": [
      "True\n"
     ]
    }
   ],
   "source": [
    "# 104\n",
    "# 아래 코드의 결과를 예상하라\n",
    "x = 4\n",
    "print(1< x < 5)\n",
    "# prints \"True\""
   ]
  },
  {
   "cell_type": "code",
   "execution_count": 5,
   "metadata": {},
   "outputs": [
    {
     "name": "stdout",
     "output_type": "stream",
     "text": [
      "True\n"
     ]
    }
   ],
   "source": [
    "# 105\n",
    "# 아래 코드의 결과를 예상하라\n",
    "print((3 == 3) and (4 != 3))\n",
    "# prints \"True\""
   ]
  },
  {
   "cell_type": "code",
   "execution_count": 6,
   "metadata": {},
   "outputs": [
    {
     "name": "stdout",
     "output_type": "stream",
     "text": [
      "False\n"
     ]
    }
   ],
   "source": [
    "# 106\n",
    "# 아래의 코드에서 에러가 발생하는 원인에 대해 설명하라\n",
    "#print(3 => 4)\n",
    "# prints \"invalid syntax\"\n",
    "print(3 >= 4)\n",
    "# prints \"False\""
   ]
  },
  {
   "cell_type": "code",
   "execution_count": 7,
   "metadata": {},
   "outputs": [],
   "source": [
    "# 107\n",
    "# 아래 코드의 출력 결과를 예상하라\n",
    "if 4 < 3:\n",
    "  print(\"Hello world\")\n",
    "\n",
    "# if 조건식이 False 이기 때문에 출력되는 값이 없습니다."
   ]
  },
  {
   "cell_type": "code",
   "execution_count": 8,
   "metadata": {},
   "outputs": [
    {
     "name": "stdout",
     "output_type": "stream",
     "text": [
      "Hi, there.\n"
     ]
    }
   ],
   "source": [
    "# 108\n",
    "# 아래 코드의 출력 결과를 예상하라\n",
    "if 4 < 3:\n",
    "    print(\"Hello World.\")\n",
    "else:\n",
    "    print(\"Hi, there.\")\n",
    "# if 조건식은 false 이므로 else 조건이 true가 된다.\n",
    "# 따라서 \"Hi, there.\"가 출력된다."
   ]
  },
  {
   "cell_type": "code",
   "execution_count": 9,
   "metadata": {},
   "outputs": [
    {
     "name": "stdout",
     "output_type": "stream",
     "text": [
      "1\n",
      "2\n",
      "4\n"
     ]
    }
   ],
   "source": [
    "# 109\n",
    "# 아래 코드의 출력 결과를 예상하라\n",
    "if True :\n",
    "    print (\"1\")\n",
    "    print (\"2\")\n",
    "else :\n",
    "    print(\"3\")\n",
    "print(\"4\")\n",
    "# 1 2 4"
   ]
  },
  {
   "cell_type": "code",
   "execution_count": 10,
   "metadata": {},
   "outputs": [
    {
     "name": "stdout",
     "output_type": "stream",
     "text": [
      "3\n",
      "5\n"
     ]
    }
   ],
   "source": [
    "# 110\n",
    "# 아래 코드의 출력 결과를 예상하라\n",
    "if True :\n",
    "    if False:\n",
    "        print(\"1\")\n",
    "        print(\"2\")\n",
    "    else:\n",
    "        print(\"3\")\n",
    "else :\n",
    "    print(\"4\")\n",
    "print(\"5\")"
   ]
  },
  {
   "cell_type": "code",
   "execution_count": 2,
   "metadata": {},
   "outputs": [
    {
     "name": "stdout",
     "output_type": "stream",
     "text": [
      "하이하이\n"
     ]
    }
   ],
   "source": [
    "# 111 input method\n",
    "# 사용자로부터 입력받은 문자열을 두번 출력하라. 아래는 사용자가 \"안녕하세요\"를 입력한 경우의 출력 결과이다.\n",
    "user = input(\"문자를 입력하세요: \")\n",
    "print(str(user) * 2)"
   ]
  },
  {
   "cell_type": "code",
   "execution_count": 4,
   "metadata": {},
   "outputs": [
    {
     "name": "stdout",
     "output_type": "stream",
     "text": [
      "11\n"
     ]
    }
   ],
   "source": [
    "# 112\n",
    "# 사용자로부터 하나의 숫자를 입력받고, 입력 받은 숫자에 10을 더해 출력하라.\n",
    "user = input(\"숫자를 입력하세요: \")\n",
    "print(10 + int(user))"
   ]
  },
  {
   "cell_type": "code",
   "execution_count": null,
   "metadata": {},
   "outputs": [],
   "source": [
    "# 113\n",
    "# 사용자로부터 하나의 숫자를 입력 받고 짝수, 홀수를 판별하라.\n",
    "user = input(\"숫자를 입력하세요: \")\n",
    "if int(user) % 2 == 0:\n",
    "  print(\"입력하신 숫자는 짝수입니다.\")\n",
    "else:\n",
    "  print(\"입력하신 숫자는 홀수입니다.\")"
   ]
  },
  {
   "cell_type": "code",
   "execution_count": null,
   "metadata": {},
   "outputs": [],
   "source": [
    "# 114\n",
    "# 사용자로부터 값을 입력받은 후 해당 값에 20을 더한 값을 출력하라. \n",
    "# 단, 사용자가 입력한 값과 20을 더한 계산 값이 255를 초과하는 경우 255를 출력해야 한다.\n",
    "user = input(\"숫자를 입력하세요: \")\n",
    "if int(user) + 20 <= 255:\n",
    "  print(int(user) + 20)\n",
    "else:\n",
    "  print(255)"
   ]
  },
  {
   "cell_type": "code",
   "execution_count": null,
   "metadata": {},
   "outputs": [],
   "source": [
    "# 115\n",
    "# 사용자로부터 하나의 값을 입력받은 후 해당 값에 20을 뺀 값을 출력하라. \n",
    "# 단 출력 값의 범위는 0~255이다. \n",
    "# 예를 들어 결괏값이 0보다 작은 값이되는 경우 0을 출력하고 255보다 큰 값이 되는 경우 255를 출력해야 한다\n",
    "user = input(\"숫자를 입력하세요: \")\n",
    "a = int(user) - 20\n",
    "if a < 0:\n",
    "  print(0)\n",
    "elif 0 < a < 255:\n",
    "  print(a)\n",
    "elif a > 255:\n",
    "  print(255)"
   ]
  },
  {
   "cell_type": "code",
   "execution_count": null,
   "metadata": {},
   "outputs": [],
   "source": [
    "# 116\n",
    "# 사용자로부터 입력 받은 시간이 정각인지 판별하라.\n",
    "user_time = input(\"현재시간: \")\n",
    "if user_time[-2:] == \"00\":\n",
    "  print(\"정각 입니다.\")\n",
    "else:\n",
    "  print(\"정각이 아닙니다.\")"
   ]
  },
  {
   "cell_type": "code",
   "execution_count": null,
   "metadata": {},
   "outputs": [],
   "source": [
    "# 117\n",
    "# 사용자로 입력받은 단어가 아래 fruit 리스트에 포함되어 있는지를 확인하라. \n",
    "# 포함되었다면 \"정답입니다\"를 아닐 경우 \"오답입니다\" 출력하라.\n",
    "fruit = [\"사과\", \"포도\", \"홍시\"]\n",
    "user_fruit = input(\"좋아하는 과일은? \")\n",
    "if user_fruit in fruit:\n",
    "  print(\"정답입니다.\")\n",
    "else:\n",
    "  print(\"오답입니다.\")"
   ]
  }
 ],
 "metadata": {
  "kernelspec": {
   "display_name": "Python 3.10.1 64-bit",
   "language": "python",
   "name": "python3"
  },
  "language_info": {
   "codemirror_mode": {
    "name": "ipython",
    "version": 3
   },
   "file_extension": ".py",
   "mimetype": "text/x-python",
   "name": "python",
   "nbconvert_exporter": "python",
   "pygments_lexer": "ipython3",
   "version": "3.10.1"
  },
  "orig_nbformat": 4,
  "vscode": {
   "interpreter": {
    "hash": "369f2c481f4da34e4445cda3fffd2e751bd1c4d706f27375911949ba6bb62e1c"
   }
  }
 },
 "nbformat": 4,
 "nbformat_minor": 2
}
