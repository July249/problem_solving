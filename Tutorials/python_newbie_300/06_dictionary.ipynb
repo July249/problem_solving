{
 "cells": [
  {
   "cell_type": "code",
   "execution_count": null,
   "metadata": {},
   "outputs": [],
   "source": []
  }
 ],
 "metadata": {
  "kernelspec": {
   "display_name": "Python 3.9.7 ('base')",
   "language": "python",
   "name": "python3"
  },
  "language_info": {
   "name": "python",
   "version": "3.9.7"
  },
  "orig_nbformat": 4,
  "vscode": {
   "interpreter": {
    "hash": "4d91e8918a7e9bd8b4c0e790d4613ef41f88ca0a8adbe5b015ed63e9883003d6"
   }
  }
 },
 "nbformat": 4,
 "nbformat_minor": 2
}
