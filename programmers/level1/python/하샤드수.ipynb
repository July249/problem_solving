{
 "cells": [
  {
   "cell_type": "code",
   "execution_count": 12,
   "metadata": {},
   "outputs": [
    {
     "name": "stdout",
     "output_type": "stream",
     "text": [
      "1\n",
      "1\n",
      "True\n",
      "1\n",
      "2\n",
      "False\n"
     ]
    }
   ],
   "source": [
    "def solution(x):\n",
    "    a = 0\n",
    "    for i in range(len(str(x))):\n",
    "      a += int(str(x)[i])\n",
    "      print(a)\n",
    "\n",
    "    if x % a == 0:\n",
    "      return True\n",
    "    else:\n",
    "      return False\n",
    "\n",
    "    \n",
    "print(solution(10)); # true\n",
    "print(solution(11)); # false"
   ]
  }
 ],
 "metadata": {
  "kernelspec": {
   "display_name": "Python 3",
   "language": "python",
   "name": "python3"
  },
  "language_info": {
   "codemirror_mode": {
    "name": "ipython",
    "version": 3
   },
   "file_extension": ".py",
   "mimetype": "text/x-python",
   "name": "python",
   "nbconvert_exporter": "python",
   "pygments_lexer": "ipython3",
   "version": "3.10.1"
  },
  "orig_nbformat": 4,
  "vscode": {
   "interpreter": {
    "hash": "369f2c481f4da34e4445cda3fffd2e751bd1c4d706f27375911949ba6bb62e1c"
   }
  }
 },
 "nbformat": 4,
 "nbformat_minor": 2
}
