{
 "cells": [
  {
   "cell_type": "code",
   "execution_count": 3,
   "metadata": {},
   "outputs": [
    {
     "name": "stdout",
     "output_type": "stream",
     "text": [
      "3\n",
      "-2\n"
     ]
    }
   ],
   "source": [
    "import numpy as np\n",
    "\n",
    "def solution(a, b):\n",
    "  a = np.array(a)\n",
    "  b = np.array(b)\n",
    "  return np.dot(a, b).tolist()\n",
    "\n",
    "print(solution([1,2,3,4], [-3,-1,0,2])) # 3\n",
    "print(solution([-1,0,1], [1,0,-1])) # -2"
   ]
  },
  {
   "cell_type": "code",
   "execution_count": null,
   "metadata": {},
   "outputs": [],
   "source": []
  }
 ],
 "metadata": {
  "kernelspec": {
   "display_name": "Python 3.10.8 ('myenv')",
   "language": "python",
   "name": "python3"
  },
  "language_info": {
   "codemirror_mode": {
    "name": "ipython",
    "version": 3
   },
   "file_extension": ".py",
   "mimetype": "text/x-python",
   "name": "python",
   "nbconvert_exporter": "python",
   "pygments_lexer": "ipython3",
   "version": "3.10.8"
  },
  "orig_nbformat": 4,
  "vscode": {
   "interpreter": {
    "hash": "186ef9f1034ea504e82a344136490ca42fc6586d65f40add3d5824301c56cc69"
   }
  }
 },
 "nbformat": 4,
 "nbformat_minor": 2
}
